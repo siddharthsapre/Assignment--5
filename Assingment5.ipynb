{
 "cells": [
  {
   "cell_type": "markdown",
   "id": "97c5a99d-4d00-4af2-858d-7cfafbd77701",
   "metadata": {},
   "source": [
    "Q1. Who developed Python Programming Language? \n",
    "\n",
    "Ans1 Python programming language was developed by Guido van Rossum and first released in 1991."
   ]
  },
  {
   "cell_type": "markdown",
   "id": "a4ecd42d-78c0-4c2a-b125-d0dd13b0fb97",
   "metadata": {},
   "source": [
    "Q2 Which type of Programming does Python support? \n",
    "    \n",
    "ans2 Python supports multiple programming paradigms, including:\n",
    "    \n",
    "Procedural programming\n",
    "\n",
    "Object-oriented programming (OOP)\n",
    "\n",
    "Functional programming\n",
    "\n",
    "Aspect-oriented programming (AOP)\n",
    "\n",
    "Metaprogramming"
   ]
  },
  {
   "cell_type": "markdown",
   "id": "241fd598-24dd-4f44-854a-ea89eb6f7c20",
   "metadata": {},
   "source": [
    "Q3  Is Python case sensitive when dealing with identifiers? \n",
    "\n",
    "ans3 Yes, Python is case sensitive when dealing with identifiers. It distinguishes between lowercase \n",
    "and uppercase letters. For example, variable and Variable are considered different identifiers in Python."
   ]
  },
  {
   "cell_type": "markdown",
   "id": "6996f25a-aee9-4e78-9122-d0d6283af749",
   "metadata": {},
   "source": [
    "Q4 What is the correct extension of the Python file?\n",
    "\n",
    "ans4 The correct extension for Python files is .py. For example, a Python script file can have a name like script.py."
   ]
  },
  {
   "cell_type": "markdown",
   "id": "279688ef-867e-4363-ba9d-c875cd9ca79e",
   "metadata": {},
   "source": [
    "Q5 . Is Python code compiled or interpreted?\n",
    "\n",
    "ans5 Python code is interpreted. The Python interpreter reads the source code line by line and executes it directly, \n",
    "without prior compilation into machine code. However, Python also provides options for code compilation to bytecode or\n",
    "executable files for optimization and distribution purposes."
   ]
  },
  {
   "cell_type": "markdown",
   "id": "40892c8e-ade7-4aee-a9a5-1b6155aa989a",
   "metadata": {},
   "source": [
    "Q6 . Name a few blocks of code used to define in Python language? \n",
    "\n",
    "ans6 In Python, code blocks are defined using indentation. Some common code blocks include:\n",
    "\n",
    "Function blocks: Blocks of code defining functions.\n",
    "\n",
    "Class blocks: Blocks of code defining classes.\n",
    "\n",
    "Conditional blocks: Blocks of code executed conditionally based on if, elif, and else statements.\n",
    "\n",
    "Loop blocks: Blocks of code executed repeatedly based on for and while loops.\n",
    "\n",
    "Exception blocks: Blocks of code handling exceptions using try and except statements."
   ]
  },
  {
   "cell_type": "markdown",
   "id": "abb40aff-0f7a-41a4-baaa-399b7a61253d",
   "metadata": {},
   "source": [
    " Q 7. State a character used to give single-line comments in Python? \n",
    "    \n",
    "ans 7 The # character is used to denote single-line comments in Python. \n",
    "Anything written after the # symbol on a line is treated as a comment and is not executed as code."
   ]
  },
  {
   "cell_type": "markdown",
   "id": "3aa02766-64fb-43c1-8211-745715c32047",
   "metadata": {},
   "source": [
    " Q8. Mention functions which can help us to find the version of python that we are currently working on? \n",
    "\n",
    "ans 8 The sys module in Python provides functions to retrieve the version of Python. You can use sys.version or sys.version_info \n",
    " to get the version information."
   ]
  },
  {
   "cell_type": "markdown",
   "id": "86c0b378-18b4-4364-b092-9c894bb52925",
   "metadata": {},
   "source": [
    "Q9 9. Python supports the creation of anonymous functions at runtime, using a construct called ?\n",
    "\n",
    "ans9 Python supports the creation of anonymous functions at runtime using a construct called \"lambda functions.\"\n",
    " These functions are defined using the lambda keyword and don't have a name. They are commonly used in situations \n",
    "where a small, one-line function is required."
   ]
  },
  {
   "cell_type": "markdown",
   "id": "2af4dd07-8e07-4462-8e46-de5efc56381b",
   "metadata": {},
   "source": [
    " Q10 PIP stands for in Phyton?\n",
    "    \n",
    "Ans=\"Pip Installs Packages.\" It is a package manager for Python that allows you to install, \n",
    " upgrade, and manage Python packages and libraries from the Python Package Index (PyPI)"
   ]
  },
  {
   "cell_type": "markdown",
   "id": "6aaa728a-2113-4bca-a642-29aa624bd3ff",
   "metadata": {},
   "source": [
    "Q11  Mention a few built-in functions in python? \n",
    "\n",
    "ans 11 Python provides a wide range of built-in functions, including:\n",
    "\n",
    "print(): Used to display output on the console.\n",
    "\n",
    "len(): Returns the length of a sequence or collection.\n",
    "\n",
    "type(): Returns the type of an object.\n",
    "\n",
    "range(): Generates a sequence of numbers.\n",
    "\n",
    "input(): Reads input from the user.\n",
    "\n",
    "sum(): Calculates the sum of a sequence of numbers.\n",
    "\n",
    "max(): Returns the maximum value from a sequence.\n",
    "\n",
    "min(): Returns the minimum value from a sequence.\n",
    "\n",
    "abs(): Returns the absolute value of a number.\n",
    "\n",
    "round(): Rounds a number to a specified number of decimal places."
   ]
  },
  {
   "cell_type": "markdown",
   "id": "dac1691f-3dc1-40fe-b9c6-84e351b7426b",
   "metadata": {},
   "source": [
    "12. What is the maximum possible length of an identifier in Python? \n",
    "\n",
    "ans 12 In Python, the maximum possible length of an identifier (variable name, function name, etc.) is not\n",
    " explicitly defined. However, Python recommends keeping identifier names reasonably short and meaningful to \n",
    " maintain code readability and understandability."
   ]
  },
  {
   "cell_type": "markdown",
   "id": "7b1a0951-5be9-48a2-8f24-c35233e3e125",
   "metadata": {},
   "source": [
    "Q13 . What are the benefits of using Python? \n",
    "\n",
    "ans 13 Benefits of using Python include:\n",
    "\n",
    "Easy-to-read and expressive syntax that emphasizes code readability.\n",
    "\n",
    "Large standard library with a wide range of prebuilt modules and functions.\n",
    "\n",
    "Strong community support and a vast ecosystem of third-party libraries.\n",
    "\n",
    "Platform independence, allowing code to run on different operating systems.\n",
    "\n",
    "Integration capabilities with other languages and tools.\n",
    "\n",
    "High productivity and fast development due to its simplicity and built-in features.\n",
    "\n",
    "Suitable for various domains, including web development, data analysis, artificial intelligence,\n",
    "\n",
    "scientific computing, and more"
   ]
  },
  {
   "cell_type": "markdown",
   "id": "8ba2263c-1500-40a8-92a6-6749a45db6dd",
   "metadata": {},
   "source": [
    " Q14 How is memory managed in Python? \n",
    "\n",
    "ans 14 Reference Counting: Python keeps track of the number of references to an object through a technique \n",
    " called reference counting. Every object in Python has a reference count associated with it, which is\n",
    "incremented when a new reference to the object is created and decremented when a reference goes out of \n",
    " scope or is deleted. When the reference count reaches zero, indicating that no references to the object exist, \n",
    " the memory occupied by the object is automatically freed.\n",
    "\n",
    "Garbage Collection: In addition to reference counting, Python also employs a garbage collector that periodically\n",
    "identifies and frees up memory occupied by objects with circular references, which reference count alone cannot handle.\n",
    "The garbage collector identifies and collects cyclically referenced objects that are no longer reachable by the program."
   ]
  },
  {
   "cell_type": "markdown",
   "id": "2d521520-f2a1-4aee-a239-a9e73080b899",
   "metadata": {},
   "source": [
    "Q15To install Python on Windows and set the path variables, follow these steps:\n",
    "\n",
    " Ans 15 Visit the official Python website at python.org and navigate to the Downloads section.\n",
    "\n",
    " Choose the appropriate Python version for your Windows system (32-bit or 64-bit) and click on the download \n",
    " link to download the installer.\n",
    "\n",
    " Run the downloaded installer. Make sure to check the option \"Add Python to PATH\" during the installation process.\n",
    " This will automatically set the necessary environment variables for Python.\n",
    "\n",
    " Complete the installation by following the prompts and selecting the desired installation options.\n",
    "\n",
    "After the installation is complete, open the command prompt and type python --version to verify that Python \n",
    " is installed correctly. It should display the installed Python version."
   ]
  },
  {
   "cell_type": "markdown",
   "id": "e388c7b4-33a1-4bb8-9afe-b9baee55c2e6",
   "metadata": {},
   "source": [
    "Q16 Is indentation required in python? \n",
    "\n",
    " Ans 16 Yes, indentation is required in Python. Unlike many other programming languages that use braces or keywords \n",
    "to denote code blocks, Python uses indentation to define the structure and hierarchy of code blocks. Indentation is \n",
    " used to group statements and indicate which statements are part of a particular code block, such as a function, class,\n",
    "loop, or conditional statement.\n",
    "\n",
    " In Python, consistent indentation using spaces or tabs (typically four spaces) is crucial for the code to be \n",
    "interpreted correctly. Mixing tabs and spaces for indentation can lead to indentation errors. The Python interpreter \n",
    " expects the same level of indentation within the same code block, and the end of a code block is indicated by dedenting \n",
    " to the previous level."
   ]
  },
  {
   "cell_type": "code",
   "execution_count": null,
   "id": "f23ae92e-0045-47bf-824a-6c4f80260f1a",
   "metadata": {},
   "outputs": [],
   "source": []
  },
  {
   "cell_type": "code",
   "execution_count": null,
   "id": "1f4dc6ce-9f3a-4ed4-8be6-9913ed166d6e",
   "metadata": {},
   "outputs": [],
   "source": []
  },
  {
   "cell_type": "code",
   "execution_count": null,
   "id": "722cfe59-5051-45d8-99e2-3a3964c16713",
   "metadata": {},
   "outputs": [],
   "source": []
  }
 ],
 "metadata": {
  "kernelspec": {
   "display_name": "Python 3 (ipykernel)",
   "language": "python",
   "name": "python3"
  },
  "language_info": {
   "codemirror_mode": {
    "name": "ipython",
    "version": 3
   },
   "file_extension": ".py",
   "mimetype": "text/x-python",
   "name": "python",
   "nbconvert_exporter": "python",
   "pygments_lexer": "ipython3",
   "version": "3.10.8"
  }
 },
 "nbformat": 4,
 "nbformat_minor": 5
}
